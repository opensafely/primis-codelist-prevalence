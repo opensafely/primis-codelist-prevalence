{
 "cells": [
  {
   "cell_type": "markdown",
   "metadata": {},
   "source": [
    "# Prevalence of PRIMIS codelists"
   ]
  },
  {
   "cell_type": "code",
   "execution_count": 1,
   "metadata": {},
   "outputs": [],
   "source": [
    "import pandas as pd\n",
    "import numpy as np\n",
    "import os\n",
    "\n",
    "suffix = f\"_{os.environ.get('OPENSAFELY_BACKEND', 'tpp')}\"\n",
    "os.makedirs(os.path.join(\"..\",\"safe-outputs\"), exist_ok=True)"
   ]
  },
  {
   "cell_type": "markdown",
   "metadata": {},
   "source": [
    "### Load data"
   ]
  },
  {
   "cell_type": "code",
   "execution_count": 2,
   "metadata": {},
   "outputs": [],
   "source": [
    "# import first row to get col names\n",
    "df_head = pd.read_csv(os.path.join(\"..\",\"output\",\"input.csv\"), nrows=1)\n",
    "\n",
    "# filter out columns not needed\n",
    "cols_all = df_head.columns\n",
    "cols_to_use = [c for c in cols_all if c not in [\"hashed_organisation\", \"patient_id\"]]\n",
    "\n",
    "# import full dataset without columns not needed\n",
    "df = pd.read_csv(os.path.join(\"..\",\"output\",\"input.csv\"), usecols=cols_to_use)\n",
    "\n",
    "for col in df.columns:\n",
    "    if col in [\"age\", \"sex\"]:\n",
    "        continue\n",
    "    # Most columns only contain years or NaN so we can store them as\n",
    "    # float16s, which saves a lot of memory\n",
    "    df[col] = df[col].astype(\"float16\")"
   ]
  },
  {
   "cell_type": "markdown",
   "metadata": {},
   "source": [
    "### Create ageband"
   ]
  },
  {
   "cell_type": "code",
   "execution_count": 3,
   "metadata": {},
   "outputs": [],
   "source": [
    "agebands = ['16-39', '40-69', '70+']\n",
    "conditions = [\n",
    "    (df['age'] >= 16) & (df['age'] < 40),\n",
    "    (df['age'] >= 40) & (df['age'] < 70),\n",
    "    (df['age'] >= 70) & (df['age'] < 120)]\n",
    "choices = agebands\n",
    "df['ageband'] = np.select(conditions, choices, default=np.nan)\n",
    "\n",
    "# filter to largest sex groups\n",
    "df['sex'] = df['sex'].replace(['I','U'], np.nan)\n"
   ]
  },
  {
   "cell_type": "markdown",
   "metadata": {},
   "source": [
    "### Summarise data"
   ]
  },
  {
   "cell_type": "code",
   "execution_count": 4,
   "metadata": {},
   "outputs": [],
   "source": [
    "# list columns of interest \n",
    "cols_allyears = [c for c in df.columns if c not in [\"age\",\"patient_id\"]]\n",
    "cols_recent = [\"preg\", \"pregdel\"]"
   ]
  },
  {
   "cell_type": "code",
   "execution_count": 5,
   "metadata": {},
   "outputs": [],
   "source": [
    "# filter to valid sexes and agegroups only\n",
    "df1 = df.copy().loc[(df[\"sex\"].isin([\"F\",\"M\"])) & (df[\"ageband\"].isin(agebands))]"
   ]
  },
  {
   "cell_type": "markdown",
   "metadata": {},
   "source": [
    "### Calculate population denominators"
   ]
  },
  {
   "cell_type": "code",
   "execution_count": 6,
   "metadata": {},
   "outputs": [
    {
     "data": {
      "text/html": [
       "<div>\n",
       "<style scoped>\n",
       "    .dataframe tbody tr th:only-of-type {\n",
       "        vertical-align: middle;\n",
       "    }\n",
       "\n",
       "    .dataframe tbody tr th {\n",
       "        vertical-align: top;\n",
       "    }\n",
       "\n",
       "    .dataframe thead tr th {\n",
       "        text-align: left;\n",
       "    }\n",
       "</style>\n",
       "<table border=\"1\" class=\"dataframe\">\n",
       "  <thead>\n",
       "    <tr>\n",
       "      <th>ageband</th>\n",
       "      <th colspan=\"2\" halign=\"left\">16-39</th>\n",
       "      <th colspan=\"2\" halign=\"left\">40-69</th>\n",
       "      <th colspan=\"2\" halign=\"left\">70+</th>\n",
       "      <th>total</th>\n",
       "    </tr>\n",
       "    <tr>\n",
       "      <th>sex</th>\n",
       "      <th>F</th>\n",
       "      <th>M</th>\n",
       "      <th>F</th>\n",
       "      <th>M</th>\n",
       "      <th>F</th>\n",
       "      <th>M</th>\n",
       "      <th></th>\n",
       "    </tr>\n",
       "  </thead>\n",
       "  <tbody>\n",
       "    <tr>\n",
       "      <th>total_population</th>\n",
       "      <td>1500</td>\n",
       "      <td>1475</td>\n",
       "      <td>1837</td>\n",
       "      <td>1857</td>\n",
       "      <td>629</td>\n",
       "      <td>632</td>\n",
       "      <td>7930</td>\n",
       "    </tr>\n",
       "  </tbody>\n",
       "</table>\n",
       "</div>"
      ],
      "text/plain": [
       "ageband          16-39       40-69        70+      total\n",
       "sex                  F     M     F     M    F    M      \n",
       "total_population  1500  1475  1837  1857  629  632  7930"
      ]
     },
     "execution_count": 6,
     "metadata": {},
     "output_type": "execute_result"
    }
   ],
   "source": [
    "\n",
    "out2 = df1.groupby([\"ageband\", \"sex\"])[[\"registered\"]].count().rename(columns={\"registered\":\"total_population\"}).transpose()\n",
    "\n",
    "# calculate total population across all ages and sexes\n",
    "out2[\"total\"] = out2.sum(axis=1)\n",
    "\n",
    "out2"
   ]
  },
  {
   "cell_type": "markdown",
   "metadata": {},
   "source": [
    "### Codelist counts"
   ]
  },
  {
   "cell_type": "code",
   "execution_count": 7,
   "metadata": {},
   "outputs": [
    {
     "data": {
      "text/html": [
       "<div>\n",
       "<style scoped>\n",
       "    .dataframe tbody tr th:only-of-type {\n",
       "        vertical-align: middle;\n",
       "    }\n",
       "\n",
       "    .dataframe tbody tr th {\n",
       "        vertical-align: top;\n",
       "    }\n",
       "\n",
       "    .dataframe thead tr th {\n",
       "        text-align: left;\n",
       "    }\n",
       "</style>\n",
       "<table border=\"1\" class=\"dataframe\">\n",
       "  <thead>\n",
       "    <tr>\n",
       "      <th>ageband</th>\n",
       "      <th colspan=\"2\" halign=\"left\">16-39</th>\n",
       "      <th colspan=\"2\" halign=\"left\">40-69</th>\n",
       "      <th colspan=\"2\" halign=\"left\">70+</th>\n",
       "      <th>total</th>\n",
       "    </tr>\n",
       "    <tr>\n",
       "      <th>sex</th>\n",
       "      <th>F</th>\n",
       "      <th>M</th>\n",
       "      <th>F</th>\n",
       "      <th>M</th>\n",
       "      <th>F</th>\n",
       "      <th>M</th>\n",
       "      <th></th>\n",
       "    </tr>\n",
       "  </thead>\n",
       "  <tbody>\n",
       "    <tr>\n",
       "      <th>shield</th>\n",
       "      <td>152</td>\n",
       "      <td>140</td>\n",
       "      <td>173</td>\n",
       "      <td>193</td>\n",
       "      <td>60</td>\n",
       "      <td>70</td>\n",
       "      <td>788</td>\n",
       "    </tr>\n",
       "    <tr>\n",
       "      <th>smhres</th>\n",
       "      <td>145</td>\n",
       "      <td>118</td>\n",
       "      <td>191</td>\n",
       "      <td>207</td>\n",
       "      <td>61</td>\n",
       "      <td>58</td>\n",
       "      <td>780</td>\n",
       "    </tr>\n",
       "    <tr>\n",
       "      <th>spln_cov</th>\n",
       "      <td>147</td>\n",
       "      <td>156</td>\n",
       "      <td>195</td>\n",
       "      <td>171</td>\n",
       "      <td>80</td>\n",
       "      <td>61</td>\n",
       "      <td>810</td>\n",
       "    </tr>\n",
       "    <tr>\n",
       "      <th>registered</th>\n",
       "      <td>1500</td>\n",
       "      <td>1475</td>\n",
       "      <td>1837</td>\n",
       "      <td>1857</td>\n",
       "      <td>629</td>\n",
       "      <td>632</td>\n",
       "      <td>7930</td>\n",
       "    </tr>\n",
       "    <tr>\n",
       "      <th>total_population</th>\n",
       "      <td>1500</td>\n",
       "      <td>1475</td>\n",
       "      <td>1837</td>\n",
       "      <td>1857</td>\n",
       "      <td>629</td>\n",
       "      <td>632</td>\n",
       "      <td>7930</td>\n",
       "    </tr>\n",
       "  </tbody>\n",
       "</table>\n",
       "</div>"
      ],
      "text/plain": [
       "ageband          16-39       40-69        70+      total\n",
       "sex                  F     M     F     M    F    M      \n",
       "shield             152   140   173   193   60   70   788\n",
       "smhres             145   118   191   207   61   58   780\n",
       "spln_cov           147   156   195   171   80   61   810\n",
       "registered        1500  1475  1837  1857  629  632  7930\n",
       "total_population  1500  1475  1837  1857  629  632  7930"
      ]
     },
     "metadata": {},
     "output_type": "display_data"
    }
   ],
   "source": [
    "# for codes that are only relevant if recent (pregnancy/delivery), remove any older dates\n",
    "for c in cols_recent:\n",
    "    df1.loc[(df1[c]<2020), c] = np.nan\n",
    "\n",
    "# summarise by age and gender\n",
    "out = df1[cols_allyears].groupby([\"ageband\", \"sex\"]).count().transpose()\n",
    "\n",
    "# suppress low numbers\n",
    "out = out.replace([0,1,2,3,4],0)\n",
    "\n",
    "# calculate total count for each codelist across all ages and sexes\n",
    "out[\"total\"] = out.sum(axis=1)\n",
    "\n",
    "# add population denominators\n",
    "out = pd.concat([out,out2])\n",
    "\n",
    "display(out.tail())\n",
    "\n",
    "# export to csv\n",
    "out = out.replace([0,1,2,3,4], \"<5\")\n",
    "out.to_csv(os.path.join(\"..\",\"safe-outputs\",f\"code-counts-by-age-and-sex{suffix}.csv\"))\n"
   ]
  },
  {
   "cell_type": "markdown",
   "metadata": {},
   "source": [
    "### Codelist prevalence rates"
   ]
  },
  {
   "cell_type": "code",
   "execution_count": 8,
   "metadata": {},
   "outputs": [
    {
     "ename": "TypeError",
     "evalue": "loop of ufunc does not support argument 0 of type float which has no callable rint method",
     "output_type": "error",
     "traceback": [
      "\u001b[0;31m---------------------------------------------------------------------------\u001b[0m",
      "\u001b[0;31mAttributeError\u001b[0m                            Traceback (most recent call last)",
      "\u001b[0;31mAttributeError\u001b[0m: 'float' object has no attribute 'rint'",
      "\nThe above exception was the direct cause of the following exception:\n",
      "\u001b[0;31mTypeError\u001b[0m                                 Traceback (most recent call last)",
      "\u001b[0;32m<ipython-input-8-9a773a727efc>\u001b[0m in \u001b[0;36m<module>\u001b[0;34m\u001b[0m\n\u001b[1;32m      1\u001b[0m \u001b[0;31m# calculate rates\u001b[0m\u001b[0;34m\u001b[0m\u001b[0;34m\u001b[0m\u001b[0;34m\u001b[0m\u001b[0m\n\u001b[1;32m      2\u001b[0m \u001b[0;32mfor\u001b[0m \u001b[0mi\u001b[0m \u001b[0;32min\u001b[0m \u001b[0mout\u001b[0m\u001b[0;34m.\u001b[0m\u001b[0mindex\u001b[0m\u001b[0;34m.\u001b[0m\u001b[0mdrop\u001b[0m\u001b[0;34m(\u001b[0m\u001b[0;34m\"total_population\"\u001b[0m\u001b[0;34m)\u001b[0m\u001b[0;34m:\u001b[0m\u001b[0;34m\u001b[0m\u001b[0;34m\u001b[0m\u001b[0m\n\u001b[0;32m----> 3\u001b[0;31m     \u001b[0mout\u001b[0m\u001b[0;34m.\u001b[0m\u001b[0mloc\u001b[0m\u001b[0;34m[\u001b[0m\u001b[0mi\u001b[0m\u001b[0;34m]\u001b[0m \u001b[0;34m=\u001b[0m \u001b[0;34m(\u001b[0m\u001b[0;36m1000\u001b[0m\u001b[0;34m*\u001b[0m\u001b[0mout\u001b[0m\u001b[0;34m.\u001b[0m\u001b[0mloc\u001b[0m\u001b[0;34m[\u001b[0m\u001b[0mi\u001b[0m\u001b[0;34m]\u001b[0m\u001b[0;34m/\u001b[0m\u001b[0mout\u001b[0m\u001b[0;34m.\u001b[0m\u001b[0mloc\u001b[0m\u001b[0;34m[\u001b[0m\u001b[0;34m\"total_population\"\u001b[0m\u001b[0;34m]\u001b[0m\u001b[0;34m)\u001b[0m\u001b[0;34m.\u001b[0m\u001b[0mround\u001b[0m\u001b[0;34m(\u001b[0m\u001b[0;36m1\u001b[0m\u001b[0;34m)\u001b[0m\u001b[0;34m\u001b[0m\u001b[0;34m\u001b[0m\u001b[0m\n\u001b[0m\u001b[1;32m      4\u001b[0m \u001b[0;34m\u001b[0m\u001b[0m\n\u001b[1;32m      5\u001b[0m \u001b[0;31m# export to csv\u001b[0m\u001b[0;34m\u001b[0m\u001b[0;34m\u001b[0m\u001b[0;34m\u001b[0m\u001b[0m\n",
      "\u001b[0;32m~/.pyenv/versions/3.8.1/lib/python3.8/site-packages/pandas/core/series.py\u001b[0m in \u001b[0;36mround\u001b[0;34m(self, decimals, *args, **kwargs)\u001b[0m\n\u001b[1;32m   2143\u001b[0m         \"\"\"\n\u001b[1;32m   2144\u001b[0m         \u001b[0mnv\u001b[0m\u001b[0;34m.\u001b[0m\u001b[0mvalidate_round\u001b[0m\u001b[0;34m(\u001b[0m\u001b[0margs\u001b[0m\u001b[0;34m,\u001b[0m \u001b[0mkwargs\u001b[0m\u001b[0;34m)\u001b[0m\u001b[0;34m\u001b[0m\u001b[0;34m\u001b[0m\u001b[0m\n\u001b[0;32m-> 2145\u001b[0;31m         \u001b[0mresult\u001b[0m \u001b[0;34m=\u001b[0m \u001b[0mcom\u001b[0m\u001b[0;34m.\u001b[0m\u001b[0mvalues_from_object\u001b[0m\u001b[0;34m(\u001b[0m\u001b[0mself\u001b[0m\u001b[0;34m)\u001b[0m\u001b[0;34m.\u001b[0m\u001b[0mround\u001b[0m\u001b[0;34m(\u001b[0m\u001b[0mdecimals\u001b[0m\u001b[0;34m)\u001b[0m\u001b[0;34m\u001b[0m\u001b[0;34m\u001b[0m\u001b[0m\n\u001b[0m\u001b[1;32m   2146\u001b[0m         \u001b[0mresult\u001b[0m \u001b[0;34m=\u001b[0m \u001b[0mself\u001b[0m\u001b[0;34m.\u001b[0m\u001b[0m_constructor\u001b[0m\u001b[0;34m(\u001b[0m\u001b[0mresult\u001b[0m\u001b[0;34m,\u001b[0m \u001b[0mindex\u001b[0m\u001b[0;34m=\u001b[0m\u001b[0mself\u001b[0m\u001b[0;34m.\u001b[0m\u001b[0mindex\u001b[0m\u001b[0;34m)\u001b[0m\u001b[0;34m.\u001b[0m\u001b[0m__finalize__\u001b[0m\u001b[0;34m(\u001b[0m\u001b[0mself\u001b[0m\u001b[0;34m)\u001b[0m\u001b[0;34m\u001b[0m\u001b[0;34m\u001b[0m\u001b[0m\n\u001b[1;32m   2147\u001b[0m \u001b[0;34m\u001b[0m\u001b[0m\n",
      "\u001b[0;31mTypeError\u001b[0m: loop of ufunc does not support argument 0 of type float which has no callable rint method"
     ]
    }
   ],
   "source": [
    "# calculate rates\n",
    "for i in out.index.drop(\"total_population\"):\n",
    "    out.loc[i] = (1000*out.loc[i]/out.loc[\"total_population\"]).round(1)\n",
    "\n",
    "# export to csv    \n",
    "out.to_csv(os.path.join(\"..\",\"safe-outputs\",f\"code-prevalence-by-age-and-sex{suffix}.csv\"))\n",
    "\n",
    "out"
   ]
  }
 ],
 "metadata": {
  "jupytext": {
   "cell_metadata_filter": "all",
   "notebook_metadata_filter": "all,-language_info",
   "text_representation": {
    "extension": ".py",
    "format_name": "light",
    "format_version": "1.5",
    "jupytext_version": "1.3.3"
   }
  },
  "kernelspec": {
   "display_name": "Python 3",
   "language": "python",
   "name": "python3"
  },
  "language_info": {
   "codemirror_mode": {
    "name": "ipython",
    "version": 3
   },
   "file_extension": ".py",
   "mimetype": "text/x-python",
   "name": "python",
   "nbconvert_exporter": "python",
   "pygments_lexer": "ipython3",
   "version": "3.8.1"
  }
 },
 "nbformat": 4,
 "nbformat_minor": 4
}
